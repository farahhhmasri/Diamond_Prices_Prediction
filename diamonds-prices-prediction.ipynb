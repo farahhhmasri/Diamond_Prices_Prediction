{
 "cells": [
  {
   "cell_type": "code",
   "execution_count": 1,
   "id": "438838ae",
   "metadata": {
    "execution": {
     "iopub.execute_input": "2023-05-05T17:33:14.085242Z",
     "iopub.status.busy": "2023-05-05T17:33:14.084720Z",
     "iopub.status.idle": "2023-05-05T17:33:15.730023Z",
     "shell.execute_reply": "2023-05-05T17:33:15.729131Z"
    },
    "papermill": {
     "duration": 1.658416,
     "end_time": "2023-05-05T17:33:15.732789",
     "exception": false,
     "start_time": "2023-05-05T17:33:14.074373",
     "status": "completed"
    },
    "tags": []
   },
   "outputs": [
    {
     "name": "stderr",
     "output_type": "stream",
     "text": [
      "/opt/conda/lib/python3.10/site-packages/scipy/__init__.py:146: UserWarning: A NumPy version >=1.16.5 and <1.23.0 is required for this version of SciPy (detected version 1.23.5\n",
      "  warnings.warn(f\"A NumPy version >={np_minversion} and <{np_maxversion}\"\n"
     ]
    }
   ],
   "source": [
    "import pandas as pd\n",
    "import numpy as np\n",
    "import seaborn as sns\n",
    "import matplotlib.pyplot as plt\n",
    "\n",
    "from sklearn.preprocessing import OrdinalEncoder, StandardScaler, MinMaxScaler\n",
    "from sklearn.model_selection import train_test_split,GridSearchCV\n",
    "\n",
    "from sklearn.linear_model import LinearRegression, Ridge, Lasso\n",
    "from sklearn.ensemble import RandomForestRegressor\n",
    "from sklearn.neighbors import KNeighborsRegressor\n",
    "\n",
    "from sklearn.metrics import mean_squared_error\n",
    "\n",
    "import warnings\n",
    "warnings.filterwarnings(\"ignore\")\n"
   ]
  },
  {
   "cell_type": "code",
   "execution_count": 2,
   "id": "a3b438c5",
   "metadata": {
    "execution": {
     "iopub.execute_input": "2023-05-05T17:33:15.748704Z",
     "iopub.status.busy": "2023-05-05T17:33:15.748397Z",
     "iopub.status.idle": "2023-05-05T17:33:15.868016Z",
     "shell.execute_reply": "2023-05-05T17:33:15.866969Z"
    },
    "papermill": {
     "duration": 0.129627,
     "end_time": "2023-05-05T17:33:15.870302",
     "exception": false,
     "start_time": "2023-05-05T17:33:15.740675",
     "status": "completed"
    },
    "tags": []
   },
   "outputs": [
    {
     "data": {
      "text/html": [
       "<div>\n",
       "<style scoped>\n",
       "    .dataframe tbody tr th:only-of-type {\n",
       "        vertical-align: middle;\n",
       "    }\n",
       "\n",
       "    .dataframe tbody tr th {\n",
       "        vertical-align: top;\n",
       "    }\n",
       "\n",
       "    .dataframe thead th {\n",
       "        text-align: right;\n",
       "    }\n",
       "</style>\n",
       "<table border=\"1\" class=\"dataframe\">\n",
       "  <thead>\n",
       "    <tr style=\"text-align: right;\">\n",
       "      <th></th>\n",
       "      <th>carat</th>\n",
       "      <th>cut</th>\n",
       "      <th>color</th>\n",
       "      <th>clarity</th>\n",
       "      <th>depth</th>\n",
       "      <th>table</th>\n",
       "      <th>price</th>\n",
       "      <th>x</th>\n",
       "      <th>y</th>\n",
       "      <th>z</th>\n",
       "    </tr>\n",
       "    <tr>\n",
       "      <th>Id</th>\n",
       "      <th></th>\n",
       "      <th></th>\n",
       "      <th></th>\n",
       "      <th></th>\n",
       "      <th></th>\n",
       "      <th></th>\n",
       "      <th></th>\n",
       "      <th></th>\n",
       "      <th></th>\n",
       "      <th></th>\n",
       "    </tr>\n",
       "  </thead>\n",
       "  <tbody>\n",
       "    <tr>\n",
       "      <th>26743</th>\n",
       "      <td>0.70</td>\n",
       "      <td>Premium</td>\n",
       "      <td>E</td>\n",
       "      <td>SI1</td>\n",
       "      <td>60.7</td>\n",
       "      <td>58.0</td>\n",
       "      <td>2703</td>\n",
       "      <td>5.74</td>\n",
       "      <td>5.73</td>\n",
       "      <td>3.48</td>\n",
       "    </tr>\n",
       "    <tr>\n",
       "      <th>33959</th>\n",
       "      <td>0.38</td>\n",
       "      <td>Ideal</td>\n",
       "      <td>E</td>\n",
       "      <td>VS2</td>\n",
       "      <td>61.9</td>\n",
       "      <td>57.0</td>\n",
       "      <td>963</td>\n",
       "      <td>4.66</td>\n",
       "      <td>4.61</td>\n",
       "      <td>2.87</td>\n",
       "    </tr>\n",
       "    <tr>\n",
       "      <th>10047</th>\n",
       "      <td>0.37</td>\n",
       "      <td>Ideal</td>\n",
       "      <td>I</td>\n",
       "      <td>VVS2</td>\n",
       "      <td>61.9</td>\n",
       "      <td>54.0</td>\n",
       "      <td>632</td>\n",
       "      <td>4.62</td>\n",
       "      <td>4.66</td>\n",
       "      <td>2.87</td>\n",
       "    </tr>\n",
       "  </tbody>\n",
       "</table>\n",
       "</div>"
      ],
      "text/plain": [
       "       carat      cut color clarity  depth  table  price     x     y     z\n",
       "Id                                                                        \n",
       "26743   0.70  Premium     E     SI1   60.7   58.0   2703  5.74  5.73  3.48\n",
       "33959   0.38    Ideal     E     VS2   61.9   57.0    963  4.66  4.61  2.87\n",
       "10047   0.37    Ideal     I    VVS2   61.9   54.0    632  4.62  4.66  2.87"
      ]
     },
     "execution_count": 2,
     "metadata": {},
     "output_type": "execute_result"
    }
   ],
   "source": [
    "df = pd.read_csv(\"/kaggle/input/diamond-price-prediction/train.csv\",index_col=0)\n",
    "df.sample(3)"
   ]
  },
  {
   "cell_type": "markdown",
   "id": "e88e6e11",
   "metadata": {
    "papermill": {
     "duration": 0.007462,
     "end_time": "2023-05-05T17:33:15.886121",
     "exception": false,
     "start_time": "2023-05-05T17:33:15.878659",
     "status": "completed"
    },
    "tags": []
   },
   "source": [
    "## **EDA**\n",
    "#### Analyzing the data and doing visualization"
   ]
  },
  {
   "cell_type": "code",
   "execution_count": 3,
   "id": "fe6b05bd",
   "metadata": {
    "execution": {
     "iopub.execute_input": "2023-05-05T17:33:15.901455Z",
     "iopub.status.busy": "2023-05-05T17:33:15.901175Z",
     "iopub.status.idle": "2023-05-05T17:33:15.933081Z",
     "shell.execute_reply": "2023-05-05T17:33:15.931603Z"
    },
    "papermill": {
     "duration": 0.041823,
     "end_time": "2023-05-05T17:33:15.935158",
     "exception": false,
     "start_time": "2023-05-05T17:33:15.893335",
     "status": "completed"
    },
    "tags": []
   },
   "outputs": [
    {
     "name": "stdout",
     "output_type": "stream",
     "text": [
      "<class 'pandas.core.frame.DataFrame'>\n",
      "Int64Index: 43152 entries, 1 to 43152\n",
      "Data columns (total 10 columns):\n",
      " #   Column   Non-Null Count  Dtype  \n",
      "---  ------   --------------  -----  \n",
      " 0   carat    43152 non-null  float64\n",
      " 1   cut      43152 non-null  object \n",
      " 2   color    43152 non-null  object \n",
      " 3   clarity  43152 non-null  object \n",
      " 4   depth    43152 non-null  float64\n",
      " 5   table    43152 non-null  float64\n",
      " 6   price    43152 non-null  int64  \n",
      " 7   x        43152 non-null  float64\n",
      " 8   y        43152 non-null  float64\n",
      " 9   z        43152 non-null  float64\n",
      "dtypes: float64(6), int64(1), object(3)\n",
      "memory usage: 3.6+ MB\n"
     ]
    }
   ],
   "source": [
    "df.info()"
   ]
  },
  {
   "cell_type": "code",
   "execution_count": 4,
   "id": "ddf39ba6",
   "metadata": {
    "execution": {
     "iopub.execute_input": "2023-05-05T17:33:15.950810Z",
     "iopub.status.busy": "2023-05-05T17:33:15.950542Z",
     "iopub.status.idle": "2023-05-05T17:33:15.995044Z",
     "shell.execute_reply": "2023-05-05T17:33:15.993963Z"
    },
    "papermill": {
     "duration": 0.055136,
     "end_time": "2023-05-05T17:33:15.997480",
     "exception": false,
     "start_time": "2023-05-05T17:33:15.942344",
     "status": "completed"
    },
    "tags": []
   },
   "outputs": [
    {
     "data": {
      "text/html": [
       "<div>\n",
       "<style scoped>\n",
       "    .dataframe tbody tr th:only-of-type {\n",
       "        vertical-align: middle;\n",
       "    }\n",
       "\n",
       "    .dataframe tbody tr th {\n",
       "        vertical-align: top;\n",
       "    }\n",
       "\n",
       "    .dataframe thead th {\n",
       "        text-align: right;\n",
       "    }\n",
       "</style>\n",
       "<table border=\"1\" class=\"dataframe\">\n",
       "  <thead>\n",
       "    <tr style=\"text-align: right;\">\n",
       "      <th></th>\n",
       "      <th>carat</th>\n",
       "      <th>depth</th>\n",
       "      <th>table</th>\n",
       "      <th>price</th>\n",
       "      <th>x</th>\n",
       "      <th>y</th>\n",
       "      <th>z</th>\n",
       "    </tr>\n",
       "  </thead>\n",
       "  <tbody>\n",
       "    <tr>\n",
       "      <th>count</th>\n",
       "      <td>43152.000000</td>\n",
       "      <td>43152.000000</td>\n",
       "      <td>43152.000000</td>\n",
       "      <td>43152.000000</td>\n",
       "      <td>43152.000000</td>\n",
       "      <td>43152.000000</td>\n",
       "      <td>43152.000000</td>\n",
       "    </tr>\n",
       "    <tr>\n",
       "      <th>mean</th>\n",
       "      <td>0.797855</td>\n",
       "      <td>61.747177</td>\n",
       "      <td>57.458347</td>\n",
       "      <td>3929.491912</td>\n",
       "      <td>5.731568</td>\n",
       "      <td>5.735018</td>\n",
       "      <td>3.538568</td>\n",
       "    </tr>\n",
       "    <tr>\n",
       "      <th>std</th>\n",
       "      <td>0.473594</td>\n",
       "      <td>1.435454</td>\n",
       "      <td>2.233904</td>\n",
       "      <td>3985.527795</td>\n",
       "      <td>1.121279</td>\n",
       "      <td>1.148809</td>\n",
       "      <td>0.708238</td>\n",
       "    </tr>\n",
       "    <tr>\n",
       "      <th>min</th>\n",
       "      <td>0.200000</td>\n",
       "      <td>43.000000</td>\n",
       "      <td>43.000000</td>\n",
       "      <td>326.000000</td>\n",
       "      <td>0.000000</td>\n",
       "      <td>0.000000</td>\n",
       "      <td>0.000000</td>\n",
       "    </tr>\n",
       "    <tr>\n",
       "      <th>25%</th>\n",
       "      <td>0.400000</td>\n",
       "      <td>61.000000</td>\n",
       "      <td>56.000000</td>\n",
       "      <td>947.750000</td>\n",
       "      <td>4.710000</td>\n",
       "      <td>4.720000</td>\n",
       "      <td>2.910000</td>\n",
       "    </tr>\n",
       "    <tr>\n",
       "      <th>50%</th>\n",
       "      <td>0.700000</td>\n",
       "      <td>61.800000</td>\n",
       "      <td>57.000000</td>\n",
       "      <td>2401.000000</td>\n",
       "      <td>5.700000</td>\n",
       "      <td>5.710000</td>\n",
       "      <td>3.530000</td>\n",
       "    </tr>\n",
       "    <tr>\n",
       "      <th>75%</th>\n",
       "      <td>1.040000</td>\n",
       "      <td>62.500000</td>\n",
       "      <td>59.000000</td>\n",
       "      <td>5312.000000</td>\n",
       "      <td>6.540000</td>\n",
       "      <td>6.540000</td>\n",
       "      <td>4.040000</td>\n",
       "    </tr>\n",
       "    <tr>\n",
       "      <th>max</th>\n",
       "      <td>5.010000</td>\n",
       "      <td>79.000000</td>\n",
       "      <td>95.000000</td>\n",
       "      <td>18823.000000</td>\n",
       "      <td>10.740000</td>\n",
       "      <td>58.900000</td>\n",
       "      <td>31.800000</td>\n",
       "    </tr>\n",
       "  </tbody>\n",
       "</table>\n",
       "</div>"
      ],
      "text/plain": [
       "              carat         depth         table         price             x  \\\n",
       "count  43152.000000  43152.000000  43152.000000  43152.000000  43152.000000   \n",
       "mean       0.797855     61.747177     57.458347   3929.491912      5.731568   \n",
       "std        0.473594      1.435454      2.233904   3985.527795      1.121279   \n",
       "min        0.200000     43.000000     43.000000    326.000000      0.000000   \n",
       "25%        0.400000     61.000000     56.000000    947.750000      4.710000   \n",
       "50%        0.700000     61.800000     57.000000   2401.000000      5.700000   \n",
       "75%        1.040000     62.500000     59.000000   5312.000000      6.540000   \n",
       "max        5.010000     79.000000     95.000000  18823.000000     10.740000   \n",
       "\n",
       "                  y             z  \n",
       "count  43152.000000  43152.000000  \n",
       "mean       5.735018      3.538568  \n",
       "std        1.148809      0.708238  \n",
       "min        0.000000      0.000000  \n",
       "25%        4.720000      2.910000  \n",
       "50%        5.710000      3.530000  \n",
       "75%        6.540000      4.040000  \n",
       "max       58.900000     31.800000  "
      ]
     },
     "execution_count": 4,
     "metadata": {},
     "output_type": "execute_result"
    }
   ],
   "source": [
    "df.describe()"
   ]
  },
  {
   "cell_type": "code",
   "execution_count": 5,
   "id": "f7456768",
   "metadata": {
    "execution": {
     "iopub.execute_input": "2023-05-05T17:33:16.013583Z",
     "iopub.status.busy": "2023-05-05T17:33:16.013297Z",
     "iopub.status.idle": "2023-05-05T17:33:16.039167Z",
     "shell.execute_reply": "2023-05-05T17:33:16.038274Z"
    },
    "papermill": {
     "duration": 0.035601,
     "end_time": "2023-05-05T17:33:16.041058",
     "exception": false,
     "start_time": "2023-05-05T17:33:16.005457",
     "status": "completed"
    },
    "tags": []
   },
   "outputs": [
    {
     "data": {
      "text/plain": [
       "carat      0\n",
       "cut        0\n",
       "color      0\n",
       "clarity    0\n",
       "depth      0\n",
       "table      0\n",
       "price      0\n",
       "x          0\n",
       "y          0\n",
       "z          0\n",
       "dtype: int64"
      ]
     },
     "execution_count": 5,
     "metadata": {},
     "output_type": "execute_result"
    }
   ],
   "source": [
    "df.isna().sum()"
   ]
  },
  {
   "cell_type": "code",
   "execution_count": 6,
   "id": "b086f1c2",
   "metadata": {
    "execution": {
     "iopub.execute_input": "2023-05-05T17:33:16.056440Z",
     "iopub.status.busy": "2023-05-05T17:33:16.055667Z",
     "iopub.status.idle": "2023-05-05T17:33:16.100227Z",
     "shell.execute_reply": "2023-05-05T17:33:16.099098Z"
    },
    "papermill": {
     "duration": 0.054633,
     "end_time": "2023-05-05T17:33:16.102633",
     "exception": false,
     "start_time": "2023-05-05T17:33:16.048000",
     "status": "completed"
    },
    "tags": []
   },
   "outputs": [
    {
     "data": {
      "text/html": [
       "<div>\n",
       "<style scoped>\n",
       "    .dataframe tbody tr th:only-of-type {\n",
       "        vertical-align: middle;\n",
       "    }\n",
       "\n",
       "    .dataframe tbody tr th {\n",
       "        vertical-align: top;\n",
       "    }\n",
       "\n",
       "    .dataframe thead th {\n",
       "        text-align: right;\n",
       "    }\n",
       "</style>\n",
       "<table border=\"1\" class=\"dataframe\">\n",
       "  <thead>\n",
       "    <tr style=\"text-align: right;\">\n",
       "      <th></th>\n",
       "      <th>carat</th>\n",
       "      <th>cut</th>\n",
       "      <th>color</th>\n",
       "      <th>clarity</th>\n",
       "      <th>depth</th>\n",
       "      <th>table</th>\n",
       "      <th>price</th>\n",
       "      <th>x</th>\n",
       "      <th>y</th>\n",
       "      <th>z</th>\n",
       "    </tr>\n",
       "    <tr>\n",
       "      <th>Id</th>\n",
       "      <th></th>\n",
       "      <th></th>\n",
       "      <th></th>\n",
       "      <th></th>\n",
       "      <th></th>\n",
       "      <th></th>\n",
       "      <th></th>\n",
       "      <th></th>\n",
       "      <th></th>\n",
       "      <th></th>\n",
       "    </tr>\n",
       "  </thead>\n",
       "  <tbody>\n",
       "    <tr>\n",
       "      <th>15114</th>\n",
       "      <td>1.02</td>\n",
       "      <td>Premium</td>\n",
       "      <td>J</td>\n",
       "      <td>SI2</td>\n",
       "      <td>62.6</td>\n",
       "      <td>60.0</td>\n",
       "      <td>3599</td>\n",
       "      <td>6.42</td>\n",
       "      <td>6.39</td>\n",
       "      <td>4.01</td>\n",
       "    </tr>\n",
       "    <tr>\n",
       "      <th>23369</th>\n",
       "      <td>0.73</td>\n",
       "      <td>Premium</td>\n",
       "      <td>H</td>\n",
       "      <td>SI2</td>\n",
       "      <td>62.5</td>\n",
       "      <td>58.0</td>\n",
       "      <td>2234</td>\n",
       "      <td>5.73</td>\n",
       "      <td>5.69</td>\n",
       "      <td>3.57</td>\n",
       "    </tr>\n",
       "    <tr>\n",
       "      <th>38875</th>\n",
       "      <td>0.32</td>\n",
       "      <td>Very Good</td>\n",
       "      <td>I</td>\n",
       "      <td>VS1</td>\n",
       "      <td>63.1</td>\n",
       "      <td>56.0</td>\n",
       "      <td>648</td>\n",
       "      <td>4.40</td>\n",
       "      <td>4.38</td>\n",
       "      <td>2.77</td>\n",
       "    </tr>\n",
       "  </tbody>\n",
       "</table>\n",
       "</div>"
      ],
      "text/plain": [
       "       carat        cut color clarity  depth  table  price     x     y     z\n",
       "Id                                                                          \n",
       "15114   1.02    Premium     J     SI2   62.6   60.0   3599  6.42  6.39  4.01\n",
       "23369   0.73    Premium     H     SI2   62.5   58.0   2234  5.73  5.69  3.57\n",
       "38875   0.32  Very Good     I     VS1   63.1   56.0    648  4.40  4.38  2.77"
      ]
     },
     "execution_count": 6,
     "metadata": {},
     "output_type": "execute_result"
    }
   ],
   "source": [
    "df = df.drop(df[df[\"x\"] == 0].index)\n",
    "df = df.drop(df[df[\"y\"] == 0].index)\n",
    "df = df.drop(df[df[\"z\"] == 0].index)\n",
    "\n",
    "df = df.drop(df[df[\"carat\"] == 0].index)\n",
    "df = df.drop(df[df[\"depth\"] == 0].index)\n",
    "df = df.drop(df[df[\"table\"] == 0].index)\n",
    "df = df.drop(df[df[\"price\"] == 0].index)\n",
    "\n",
    "df.sample(3)"
   ]
  },
  {
   "cell_type": "code",
   "execution_count": 7,
   "id": "1764dbc0",
   "metadata": {
    "execution": {
     "iopub.execute_input": "2023-05-05T17:33:16.121075Z",
     "iopub.status.busy": "2023-05-05T17:33:16.120804Z",
     "iopub.status.idle": "2023-05-05T17:33:16.142938Z",
     "shell.execute_reply": "2023-05-05T17:33:16.141920Z"
    },
    "papermill": {
     "duration": 0.032738,
     "end_time": "2023-05-05T17:33:16.145026",
     "exception": false,
     "start_time": "2023-05-05T17:33:16.112288",
     "status": "completed"
    },
    "tags": []
   },
   "outputs": [
    {
     "data": {
      "text/html": [
       "<div>\n",
       "<style scoped>\n",
       "    .dataframe tbody tr th:only-of-type {\n",
       "        vertical-align: middle;\n",
       "    }\n",
       "\n",
       "    .dataframe tbody tr th {\n",
       "        vertical-align: top;\n",
       "    }\n",
       "\n",
       "    .dataframe thead th {\n",
       "        text-align: right;\n",
       "    }\n",
       "</style>\n",
       "<table border=\"1\" class=\"dataframe\">\n",
       "  <thead>\n",
       "    <tr style=\"text-align: right;\">\n",
       "      <th></th>\n",
       "      <th>carat</th>\n",
       "      <th>cut</th>\n",
       "      <th>color</th>\n",
       "      <th>clarity</th>\n",
       "      <th>depth</th>\n",
       "      <th>table</th>\n",
       "      <th>price</th>\n",
       "      <th>total_depth</th>\n",
       "      <th>size</th>\n",
       "    </tr>\n",
       "    <tr>\n",
       "      <th>Id</th>\n",
       "      <th></th>\n",
       "      <th></th>\n",
       "      <th></th>\n",
       "      <th></th>\n",
       "      <th></th>\n",
       "      <th></th>\n",
       "      <th></th>\n",
       "      <th></th>\n",
       "      <th></th>\n",
       "    </tr>\n",
       "  </thead>\n",
       "  <tbody>\n",
       "    <tr>\n",
       "      <th>23323</th>\n",
       "      <td>0.31</td>\n",
       "      <td>Ideal</td>\n",
       "      <td>E</td>\n",
       "      <td>VS1</td>\n",
       "      <td>60.2</td>\n",
       "      <td>56.0</td>\n",
       "      <td>804</td>\n",
       "      <td>0.602492</td>\n",
       "      <td>51.847656</td>\n",
       "    </tr>\n",
       "    <tr>\n",
       "      <th>34177</th>\n",
       "      <td>0.23</td>\n",
       "      <td>Good</td>\n",
       "      <td>E</td>\n",
       "      <td>VS1</td>\n",
       "      <td>64.3</td>\n",
       "      <td>59.0</td>\n",
       "      <td>373</td>\n",
       "      <td>0.643320</td>\n",
       "      <td>36.854784</td>\n",
       "    </tr>\n",
       "    <tr>\n",
       "      <th>32404</th>\n",
       "      <td>1.01</td>\n",
       "      <td>Good</td>\n",
       "      <td>E</td>\n",
       "      <td>SI1</td>\n",
       "      <td>58.1</td>\n",
       "      <td>59.0</td>\n",
       "      <td>5627</td>\n",
       "      <td>0.580938</td>\n",
       "      <td>167.771520</td>\n",
       "    </tr>\n",
       "    <tr>\n",
       "      <th>5019</th>\n",
       "      <td>1.06</td>\n",
       "      <td>Premium</td>\n",
       "      <td>G</td>\n",
       "      <td>SI1</td>\n",
       "      <td>59.6</td>\n",
       "      <td>58.0</td>\n",
       "      <td>4815</td>\n",
       "      <td>0.595522</td>\n",
       "      <td>179.107509</td>\n",
       "    </tr>\n",
       "    <tr>\n",
       "      <th>30111</th>\n",
       "      <td>0.30</td>\n",
       "      <td>Premium</td>\n",
       "      <td>E</td>\n",
       "      <td>SI1</td>\n",
       "      <td>62.5</td>\n",
       "      <td>59.0</td>\n",
       "      <td>526</td>\n",
       "      <td>0.624709</td>\n",
       "      <td>49.322720</td>\n",
       "    </tr>\n",
       "  </tbody>\n",
       "</table>\n",
       "</div>"
      ],
      "text/plain": [
       "       carat      cut color clarity  depth  table  price  total_depth  \\\n",
       "Id                                                                      \n",
       "23323   0.31    Ideal     E     VS1   60.2   56.0    804     0.602492   \n",
       "34177   0.23     Good     E     VS1   64.3   59.0    373     0.643320   \n",
       "32404   1.01     Good     E     SI1   58.1   59.0   5627     0.580938   \n",
       "5019    1.06  Premium     G     SI1   59.6   58.0   4815     0.595522   \n",
       "30111   0.30  Premium     E     SI1   62.5   59.0    526     0.624709   \n",
       "\n",
       "             size  \n",
       "Id                 \n",
       "23323   51.847656  \n",
       "34177   36.854784  \n",
       "32404  167.771520  \n",
       "5019   179.107509  \n",
       "30111   49.322720  "
      ]
     },
     "execution_count": 7,
     "metadata": {},
     "output_type": "execute_result"
    }
   ],
   "source": [
    "# adding new features\n",
    "\n",
    "df[\"total_depth\"] = (df[\"z\"]*2)/(df[\"x\"]+df[\"y\"])\n",
    "\n",
    "df[\"size\"] = df[\"x\"] * df[\"y\"] * df[\"z\"]\n",
    "df = df.drop([\"x\",\"y\",\"z\"],axis=1)\n",
    "\n",
    "df.sample(5)"
   ]
  },
  {
   "cell_type": "code",
   "execution_count": 8,
   "id": "6077ae03",
   "metadata": {
    "execution": {
     "iopub.execute_input": "2023-05-05T17:33:16.161590Z",
     "iopub.status.busy": "2023-05-05T17:33:16.161354Z",
     "iopub.status.idle": "2023-05-05T17:33:16.173737Z",
     "shell.execute_reply": "2023-05-05T17:33:16.172344Z"
    },
    "papermill": {
     "duration": 0.02285,
     "end_time": "2023-05-05T17:33:16.175805",
     "exception": false,
     "start_time": "2023-05-05T17:33:16.152955",
     "status": "completed"
    },
    "tags": []
   },
   "outputs": [
    {
     "name": "stdout",
     "output_type": "stream",
     "text": [
      "Ideal        17201\n",
      "Premium      11103\n",
      "Very Good     9657\n",
      "Good          3878\n",
      "Fair          1296\n",
      "Name: cut, dtype: int64\n",
      "=============================\n",
      "G    9053\n",
      "E    7832\n",
      "F    7630\n",
      "H    6645\n",
      "D    5421\n",
      "I    4264\n",
      "J    2290\n",
      "Name: color, dtype: int64\n",
      "=============================\n",
      "SI1     10426\n",
      "VS2      9821\n",
      "SI2      7424\n",
      "VS1      6474\n",
      "VVS2     4041\n",
      "VVS1     2904\n",
      "IF       1442\n",
      "I1        603\n",
      "Name: clarity, dtype: int64\n",
      "=============================\n"
     ]
    }
   ],
   "source": [
    "cols = [\"cut\",\"color\",\"clarity\"]\n",
    "for i in cols:\n",
    "    print(df[i].value_counts())\n",
    "    print(\"=============================\")"
   ]
  },
  {
   "cell_type": "code",
   "execution_count": 9,
   "id": "22a301e5",
   "metadata": {
    "execution": {
     "iopub.execute_input": "2023-05-05T17:33:16.191402Z",
     "iopub.status.busy": "2023-05-05T17:33:16.191152Z",
     "iopub.status.idle": "2023-05-05T17:33:17.737673Z",
     "shell.execute_reply": "2023-05-05T17:33:17.736761Z"
    },
    "papermill": {
     "duration": 1.557482,
     "end_time": "2023-05-05T17:33:17.740538",
     "exception": false,
     "start_time": "2023-05-05T17:33:16.183056",
     "status": "completed"
    },
    "tags": []
   },
   "outputs": [
    {
     "data": {
      "image/png": "[encoded data removed]",
      "text/plain": [
       "<Figure size 1170x727 with 6 Axes>"
      ]
     },
     "metadata": {},
     "output_type": "display_data"
    }
   ],
   "source": [
    "sns.set(rc={'figure.figsize':(11.7,7.27)})\n",
    "df.hist()\n",
    "plt.tight_layout()\n",
    "plt.show()\n",
    "\n",
    "# carat values are normal\n",
    "# depth values the majority of the data is less than 65 \n",
    "# table values are normal\n",
    "# price values are normal\n",
    "# total depth values are centered in a specific range \n",
    "# size values are centered in a specific range "
   ]
  },
  {
   "cell_type": "code",
   "execution_count": 10,
   "id": "5b99762b",
   "metadata": {
    "execution": {
     "iopub.execute_input": "2023-05-05T17:33:17.757882Z",
     "iopub.status.busy": "2023-05-05T17:33:17.757614Z",
     "iopub.status.idle": "2023-05-05T17:33:18.472741Z",
     "shell.execute_reply": "2023-05-05T17:33:18.471861Z"
    },
    "papermill": {
     "duration": 0.726085,
     "end_time": "2023-05-05T17:33:18.474890",
     "exception": false,
     "start_time": "2023-05-05T17:33:17.748805",
     "status": "completed"
    },
    "tags": []
   },
   "outputs": [
    {
     "data": {
      "image/png": "[encoded data removed]",
      "text/plain": [
       "<Figure size 1170x727 with 3 Axes>"
      ]
     },
     "metadata": {},
     "output_type": "display_data"
    }
   ],
   "source": [
    "plt.subplot(1,3,1)\n",
    "sns.countplot(data=df,x=\"cut\")\n",
    "\n",
    "plt.subplot(1,3,2)\n",
    "sns.countplot(data=df,x=\"color\")\n",
    "\n",
    "plt.subplot(1,3,3)\n",
    "sns.countplot(data=df,x=\"clarity\")\n",
    "\n",
    "plt.tight_layout()\n",
    "plt.show()\n",
    "\n",
    "# cut : only few rows with the Fair value  \n",
    "# color : categories are normally distributed\n",
    "# clarity : only few rows with IF, l1 values"
   ]
  },
  {
   "cell_type": "code",
   "execution_count": 11,
   "id": "16e6c2f3",
   "metadata": {
    "execution": {
     "iopub.execute_input": "2023-05-05T17:33:18.496571Z",
     "iopub.status.busy": "2023-05-05T17:33:18.494961Z",
     "iopub.status.idle": "2023-05-05T17:33:19.645951Z",
     "shell.execute_reply": "2023-05-05T17:33:19.645090Z"
    },
    "papermill": {
     "duration": 1.163287,
     "end_time": "2023-05-05T17:33:19.648012",
     "exception": false,
     "start_time": "2023-05-05T17:33:18.484725",
     "status": "completed"
    },
    "tags": []
   },
   "outputs": [
    {
     "data": {
      "image/png": "[encoded data removed]",
      "text/plain": [
       "<Figure size 500x500 with 2 Axes>"
      ]
     },
     "metadata": {},
     "output_type": "display_data"
    }
   ],
   "source": [
    "df.plot(kind=\"scatter\", x=\"carat\", y=\"size\", c=\"price\",alpha=0.2,colorbar=True,cmap = plt.get_cmap('jet'),figsize=(5,5))\n",
    "plt.show()\n",
    "\n",
    "# whenever the carat increases the size and the price also increase"
   ]
  },
  {
   "cell_type": "code",
   "execution_count": 12,
   "id": "22f02b1b",
   "metadata": {
    "execution": {
     "iopub.execute_input": "2023-05-05T17:33:19.669526Z",
     "iopub.status.busy": "2023-05-05T17:33:19.669209Z",
     "iopub.status.idle": "2023-05-05T17:33:20.171608Z",
     "shell.execute_reply": "2023-05-05T17:33:20.170742Z"
    },
    "papermill": {
     "duration": 0.515498,
     "end_time": "2023-05-05T17:33:20.173495",
     "exception": false,
     "start_time": "2023-05-05T17:33:19.657997",
     "status": "completed"
    },
    "tags": []
   },
   "outputs": [
    {
     "data": {
      "text/plain": [
       "<AxesSubplot: >"
      ]
     },
     "execution_count": 12,
     "metadata": {},
     "output_type": "execute_result"
    },
    {
     "data": {
      "image/png": "[encoded data removed]",
      "text/plain": [
       "<Figure size 1170x727 with 1 Axes>"
      ]
     },
     "metadata": {},
     "output_type": "display_data"
    }
   ],
   "source": [
    "sns.boxplot(data = df[[\"carat\",\"depth\",\"table\",'total_depth','size']])\n",
    "\n",
    "# dataset is full of outliers"
   ]
  },
  {
   "cell_type": "code",
   "execution_count": 13,
   "id": "17963ea1",
   "metadata": {
    "execution": {
     "iopub.execute_input": "2023-05-05T17:33:20.194757Z",
     "iopub.status.busy": "2023-05-05T17:33:20.194011Z",
     "iopub.status.idle": "2023-05-05T17:33:20.218350Z",
     "shell.execute_reply": "2023-05-05T17:33:20.217480Z"
    },
    "papermill": {
     "duration": 0.036998,
     "end_time": "2023-05-05T17:33:20.220479",
     "exception": false,
     "start_time": "2023-05-05T17:33:20.183481",
     "status": "completed"
    },
    "tags": []
   },
   "outputs": [],
   "source": [
    "# handling outliers\n",
    "cols = ['carat', 'depth','table','total_depth','size'] \n",
    "\n",
    "Q1 = df[cols].quantile(0.25)\n",
    "Q3 = df[cols].quantile(0.75)\n",
    "IQR = Q3 - Q1\n",
    "\n",
    "df = df[~(( df[cols] < (Q1 - 1.5 * IQR)) |( df[cols] > (Q3 + 1.5 * IQR))).any(axis=1)]"
   ]
  },
  {
   "cell_type": "markdown",
   "id": "8985d1f4",
   "metadata": {
    "papermill": {
     "duration": 0.009146,
     "end_time": "2023-05-05T17:33:20.239424",
     "exception": false,
     "start_time": "2023-05-05T17:33:20.230278",
     "status": "completed"
    },
    "tags": []
   },
   "source": [
    "## **Preprocessing**\n",
    "#### Using the oridnal encoder because some values are better than the others."
   ]
  },
  {
   "cell_type": "code",
   "execution_count": 14,
   "id": "d0fbdcb8",
   "metadata": {
    "execution": {
     "iopub.execute_input": "2023-05-05T17:33:20.259346Z",
     "iopub.status.busy": "2023-05-05T17:33:20.258733Z",
     "iopub.status.idle": "2023-05-05T17:33:20.302823Z",
     "shell.execute_reply": "2023-05-05T17:33:20.301916Z"
    },
    "papermill": {
     "duration": 0.056691,
     "end_time": "2023-05-05T17:33:20.305385",
     "exception": false,
     "start_time": "2023-05-05T17:33:20.248694",
     "status": "completed"
    },
    "tags": []
   },
   "outputs": [],
   "source": [
    "encoder_cut = OrdinalEncoder(categories=[[\"Fair\",\"Good\",\"Very Good\",\"Premium\",\"Ideal\"]], handle_unknown='use_encoded_value', unknown_value = 100).fit(df[[\"cut\"]])\n",
    "encoded_cut = encoder_cut.transform(df[[\"cut\"]])\n",
    "\n",
    "encoder_color = OrdinalEncoder(categories=[[\"J\",\"I\",\"H\",\"G\",\"F\",\"E\",\"D\"]],  handle_unknown='use_encoded_value', unknown_value = 100).fit(df[[\"color\"]])\n",
    "encoded_color = encoder_color.transform(df[[\"color\"]])\n",
    "\n",
    "encoder_clarity = OrdinalEncoder(categories=[[\"I1\",\"SI2\",\"SI1\",\"VS2\",\"VS1\",\"VVS2\",\"VVS1\",\"IF\"]],  handle_unknown='use_encoded_value', unknown_value = 100).fit(df[[\"clarity\"]])\n",
    "encoded_clarity = encoder_clarity.transform(df[[\"clarity\"]])\n",
    "\n",
    "df[\"cut\"] = encoded_cut\n",
    "df[\"color\"] = encoded_color\n",
    "df[\"clarity\"] = encoded_clarity\n",
    "\n",
    "df[['cut','color','clarity']] = df[['cut','color','clarity']].replace(100, 0)"
   ]
  },
  {
   "cell_type": "code",
   "execution_count": 15,
   "id": "28f5822e",
   "metadata": {
    "execution": {
     "iopub.execute_input": "2023-05-05T17:33:20.327042Z",
     "iopub.status.busy": "2023-05-05T17:33:20.326296Z",
     "iopub.status.idle": "2023-05-05T17:33:20.343055Z",
     "shell.execute_reply": "2023-05-05T17:33:20.342040Z"
    },
    "papermill": {
     "duration": 0.02882,
     "end_time": "2023-05-05T17:33:20.344946",
     "exception": false,
     "start_time": "2023-05-05T17:33:20.316126",
     "status": "completed"
    },
    "tags": []
   },
   "outputs": [
    {
     "data": {
      "text/html": [
       "<div>\n",
       "<style scoped>\n",
       "    .dataframe tbody tr th:only-of-type {\n",
       "        vertical-align: middle;\n",
       "    }\n",
       "\n",
       "    .dataframe tbody tr th {\n",
       "        vertical-align: top;\n",
       "    }\n",
       "\n",
       "    .dataframe thead th {\n",
       "        text-align: right;\n",
       "    }\n",
       "</style>\n",
       "<table border=\"1\" class=\"dataframe\">\n",
       "  <thead>\n",
       "    <tr style=\"text-align: right;\">\n",
       "      <th></th>\n",
       "      <th>carat</th>\n",
       "      <th>cut</th>\n",
       "      <th>color</th>\n",
       "      <th>clarity</th>\n",
       "      <th>depth</th>\n",
       "      <th>table</th>\n",
       "      <th>price</th>\n",
       "      <th>total_depth</th>\n",
       "      <th>size</th>\n",
       "    </tr>\n",
       "    <tr>\n",
       "      <th>Id</th>\n",
       "      <th></th>\n",
       "      <th></th>\n",
       "      <th></th>\n",
       "      <th></th>\n",
       "      <th></th>\n",
       "      <th></th>\n",
       "      <th></th>\n",
       "      <th></th>\n",
       "      <th></th>\n",
       "    </tr>\n",
       "  </thead>\n",
       "  <tbody>\n",
       "    <tr>\n",
       "      <th>5731</th>\n",
       "      <td>1.21</td>\n",
       "      <td>3.0</td>\n",
       "      <td>1.0</td>\n",
       "      <td>1.0</td>\n",
       "      <td>59.9</td>\n",
       "      <td>61.0</td>\n",
       "      <td>4337</td>\n",
       "      <td>0.598253</td>\n",
       "      <td>193.977615</td>\n",
       "    </tr>\n",
       "    <tr>\n",
       "      <th>17298</th>\n",
       "      <td>1.03</td>\n",
       "      <td>2.0</td>\n",
       "      <td>1.0</td>\n",
       "      <td>1.0</td>\n",
       "      <td>63.5</td>\n",
       "      <td>58.0</td>\n",
       "      <td>5884</td>\n",
       "      <td>0.635368</td>\n",
       "      <td>165.777920</td>\n",
       "    </tr>\n",
       "    <tr>\n",
       "      <th>9915</th>\n",
       "      <td>0.71</td>\n",
       "      <td>1.0</td>\n",
       "      <td>3.0</td>\n",
       "      <td>3.0</td>\n",
       "      <td>58.9</td>\n",
       "      <td>61.0</td>\n",
       "      <td>2649</td>\n",
       "      <td>0.588841</td>\n",
       "      <td>116.381272</td>\n",
       "    </tr>\n",
       "  </tbody>\n",
       "</table>\n",
       "</div>"
      ],
      "text/plain": [
       "       carat  cut  color  clarity  depth  table  price  total_depth  \\\n",
       "Id                                                                    \n",
       "5731    1.21  3.0    1.0      1.0   59.9   61.0   4337     0.598253   \n",
       "17298   1.03  2.0    1.0      1.0   63.5   58.0   5884     0.635368   \n",
       "9915    0.71  1.0    3.0      3.0   58.9   61.0   2649     0.588841   \n",
       "\n",
       "             size  \n",
       "Id                 \n",
       "5731   193.977615  \n",
       "17298  165.777920  \n",
       "9915   116.381272  "
      ]
     },
     "execution_count": 15,
     "metadata": {},
     "output_type": "execute_result"
    }
   ],
   "source": [
    "df.sample(3)"
   ]
  },
  {
   "cell_type": "code",
   "execution_count": 16,
   "id": "e93d588e",
   "metadata": {
    "execution": {
     "iopub.execute_input": "2023-05-05T17:33:20.367193Z",
     "iopub.status.busy": "2023-05-05T17:33:20.366231Z",
     "iopub.status.idle": "2023-05-05T17:33:20.372032Z",
     "shell.execute_reply": "2023-05-05T17:33:20.371177Z"
    },
    "papermill": {
     "duration": 0.018579,
     "end_time": "2023-05-05T17:33:20.374213",
     "exception": false,
     "start_time": "2023-05-05T17:33:20.355634",
     "status": "completed"
    },
    "tags": []
   },
   "outputs": [],
   "source": [
    "# specifying the features and the target\n",
    "\n",
    "X = df.drop(\"price\",axis=1)\n",
    "y = df[\"price\"]"
   ]
  },
  {
   "cell_type": "code",
   "execution_count": 17,
   "id": "b0f9dea6",
   "metadata": {
    "execution": {
     "iopub.execute_input": "2023-05-05T17:33:20.395302Z",
     "iopub.status.busy": "2023-05-05T17:33:20.394573Z",
     "iopub.status.idle": "2023-05-05T17:33:20.404542Z",
     "shell.execute_reply": "2023-05-05T17:33:20.403329Z"
    },
    "papermill": {
     "duration": 0.022382,
     "end_time": "2023-05-05T17:33:20.406418",
     "exception": false,
     "start_time": "2023-05-05T17:33:20.384036",
     "status": "completed"
    },
    "tags": []
   },
   "outputs": [
    {
     "name": "stdout",
     "output_type": "stream",
     "text": [
      "(31433, 8)\n",
      "(7859, 8)\n"
     ]
    }
   ],
   "source": [
    "# splitting the data for training the model and evaluating it's perfromance\n",
    "\n",
    "X_train, X_validation, y_train, y_validation = train_test_split(X,y,test_size=0.2,random_state=0)\n",
    "print(X_train.shape)\n",
    "print(X_validation.shape)"
   ]
  },
  {
   "cell_type": "code",
   "execution_count": 18,
   "id": "cc2dcfd3",
   "metadata": {
    "execution": {
     "iopub.execute_input": "2023-05-05T17:33:20.427317Z",
     "iopub.status.busy": "2023-05-05T17:33:20.426517Z",
     "iopub.status.idle": "2023-05-05T17:33:20.441765Z",
     "shell.execute_reply": "2023-05-05T17:33:20.440949Z"
    },
    "papermill": {
     "duration": 0.027667,
     "end_time": "2023-05-05T17:33:20.443641",
     "exception": false,
     "start_time": "2023-05-05T17:33:20.415974",
     "status": "completed"
    },
    "tags": []
   },
   "outputs": [],
   "source": [
    "# scaling the data to make it in the same range\n",
    "\n",
    "scaler = StandardScaler().fit(X_train[[\"carat\",\"depth\",\"table\",\"total_depth\",\"size\"]])\n",
    "scaled_train = scaler.transform(X_train[[\"carat\",\"depth\",\"table\",\"total_depth\",\"size\"]])\n",
    "\n",
    "# the MinMax Scaler didn't give a better results than the standard scaler\n",
    "\n",
    "# scaler = MinMaxScaler().fit(X_train[[\"carat\",\"depth\",\"table\",\"total_depth\",\"size\"]])\n",
    "# scaled_train = scaler.transform(X_train[[\"carat\",\"depth\",\"table\",\"total_depth\",\"size\"]])\n",
    "\n",
    "X_train[[\"carat\",\"depth\",\"table\",\"total_depth\",\"size\"]] = scaled_train"
   ]
  },
  {
   "cell_type": "code",
   "execution_count": 19,
   "id": "a896391d",
   "metadata": {
    "execution": {
     "iopub.execute_input": "2023-05-05T17:33:20.465328Z",
     "iopub.status.busy": "2023-05-05T17:33:20.464566Z",
     "iopub.status.idle": "2023-05-05T17:33:20.472695Z",
     "shell.execute_reply": "2023-05-05T17:33:20.471941Z"
    },
    "papermill": {
     "duration": 0.021142,
     "end_time": "2023-05-05T17:33:20.474701",
     "exception": false,
     "start_time": "2023-05-05T17:33:20.453559",
     "status": "completed"
    },
    "tags": []
   },
   "outputs": [],
   "source": [
    "scaled_validation = scaler.transform(X_validation[[\"carat\",\"depth\",\"table\",\"total_depth\",\"size\"]])\n",
    "X_validation[[\"carat\",\"depth\",\"table\",\"total_depth\",\"size\"]] = scaled_validation"
   ]
  },
  {
   "cell_type": "markdown",
   "id": "fae9b2a9",
   "metadata": {
    "papermill": {
     "duration": 0.010429,
     "end_time": "2023-05-05T17:33:20.494877",
     "exception": false,
     "start_time": "2023-05-05T17:33:20.484448",
     "status": "completed"
    },
    "tags": []
   },
   "source": [
    "## **Model Training**"
   ]
  },
  {
   "cell_type": "code",
   "execution_count": 20,
   "id": "6d55760e",
   "metadata": {
    "execution": {
     "iopub.execute_input": "2023-05-05T17:33:20.515783Z",
     "iopub.status.busy": "2023-05-05T17:33:20.515051Z",
     "iopub.status.idle": "2023-05-05T17:33:33.504832Z",
     "shell.execute_reply": "2023-05-05T17:33:33.503846Z"
    },
    "papermill": {
     "duration": 13.002931,
     "end_time": "2023-05-05T17:33:33.507443",
     "exception": false,
     "start_time": "2023-05-05T17:33:20.504512",
     "status": "completed"
    },
    "tags": []
   },
   "outputs": [],
   "source": [
    "# Ridge\n",
    "r1 = Ridge(random_state=0)\n",
    "r1.fit(X_train,y_train)\n",
    "pred_r1 = r1.predict(X_validation)\n",
    "\n",
    "# Lasso\n",
    "l1 = Lasso(random_state=0)\n",
    "l1.fit(X_train,y_train)\n",
    "pred_l1 = l1.predict(X_validation)\n",
    "\n",
    "# Random Forest Regressor\n",
    "randomForest1 = RandomForestRegressor(random_state=0)\n",
    "randomForest1.fit(X_train,y_train)\n",
    "pred_rf1 = randomForest1.predict(X_validation)\n",
    "\n",
    "# KNN\n",
    "knn1 = KNeighborsRegressor()\n",
    "knn1.fit(X_train,y_train)\n",
    "pred_knn1 = knn1.predict(X_validation)"
   ]
  },
  {
   "cell_type": "code",
   "execution_count": 21,
   "id": "4d72d6f3",
   "metadata": {
    "execution": {
     "iopub.execute_input": "2023-05-05T17:33:33.531918Z",
     "iopub.status.busy": "2023-05-05T17:33:33.530185Z",
     "iopub.status.idle": "2023-05-05T17:33:33.540758Z",
     "shell.execute_reply": "2023-05-05T17:33:33.539614Z"
    },
    "papermill": {
     "duration": 0.024533,
     "end_time": "2023-05-05T17:33:33.543420",
     "exception": false,
     "start_time": "2023-05-05T17:33:33.518887",
     "status": "completed"
    },
    "tags": []
   },
   "outputs": [
    {
     "name": "stdout",
     "output_type": "stream",
     "text": [
      "Ridge rmse  1139.13\n",
      "Lasso rmse  1138.65\n",
      "RandomForestRegressor rmse  438.2\n",
      "KNN rmse  649.83\n"
     ]
    }
   ],
   "source": [
    "rmse_r1 = np.sqrt(mean_squared_error(y_validation, pred_r1))\n",
    "rmse_l1 = np.sqrt(mean_squared_error(y_validation, pred_l1))\n",
    "rmse_rfr1 = np.sqrt(mean_squared_error(y_validation, pred_rf1))\n",
    "rmse_knn1 = np.sqrt(mean_squared_error(y_validation, pred_knn1))\n",
    "\n",
    "###########################################################\n",
    "\n",
    "print(\"Ridge rmse \",np.round(rmse_r1,2))\n",
    "print(\"Lasso rmse \",np.round(rmse_l1,2))\n",
    "print(\"RandomForestRegressor rmse \",np.round(rmse_rfr1,2))\n",
    "print(\"KNN rmse \",np.round(rmse_knn1,2))"
   ]
  },
  {
   "cell_type": "markdown",
   "id": "bda78555",
   "metadata": {
    "papermill": {
     "duration": 0.009978,
     "end_time": "2023-05-05T17:33:33.563286",
     "exception": false,
     "start_time": "2023-05-05T17:33:33.553308",
     "status": "completed"
    },
    "tags": []
   },
   "source": [
    "## **GridScearchCV For The Models With The Best Performance**\n",
    "##### **RandomForestRegressor**\n",
    "##### **KNN**"
   ]
  },
  {
   "cell_type": "code",
   "execution_count": 22,
   "id": "c6e6bd68",
   "metadata": {
    "execution": {
     "iopub.execute_input": "2023-05-05T17:33:33.583574Z",
     "iopub.status.busy": "2023-05-05T17:33:33.583313Z",
     "iopub.status.idle": "2023-05-05T17:33:33.587719Z",
     "shell.execute_reply": "2023-05-05T17:33:33.586790Z"
    },
    "papermill": {
     "duration": 0.016662,
     "end_time": "2023-05-05T17:33:33.589610",
     "exception": false,
     "start_time": "2023-05-05T17:33:33.572948",
     "status": "completed"
    },
    "tags": []
   },
   "outputs": [],
   "source": [
    "rfr = RandomForestRegressor(random_state=0)\n",
    "knn = KNeighborsRegressor(weights=\"distance\",algorithm=\"brute\")\n",
    "\n",
    "# parameters\n",
    "n_estimators = [15,25,50,75,100,125]\n",
    "criterion = [\"squared_error\"]"
   ]
  },
  {
   "cell_type": "code",
   "execution_count": 23,
   "id": "1dce10a5",
   "metadata": {
    "execution": {
     "iopub.execute_input": "2023-05-05T17:33:33.609653Z",
     "iopub.status.busy": "2023-05-05T17:33:33.609347Z",
     "iopub.status.idle": "2023-05-05T17:36:52.075002Z",
     "shell.execute_reply": "2023-05-05T17:36:52.073963Z"
    },
    "papermill": {
     "duration": 198.490573,
     "end_time": "2023-05-05T17:36:52.089603",
     "exception": false,
     "start_time": "2023-05-05T17:33:33.599030",
     "status": "completed"
    },
    "tags": []
   },
   "outputs": [
    {
     "name": "stdout",
     "output_type": "stream",
     "text": [
      "KNN rmse (after tuning):  614.72\n",
      "RandomForestRegressor rmse (after tuning):  437.94\n"
     ]
    }
   ],
   "source": [
    "knn.fit(X_train,y_train)\n",
    "pred1 = knn.predict(X_validation)\n",
    "knn_rmse = np.sqrt(mean_squared_error(y_validation,pred1))\n",
    "\n",
    "print(\"KNN rmse (after tuning): \",np.round(knn_rmse,2))\n",
    "\n",
    "\n",
    "################################################################\n",
    "\n",
    "params = {\"n_estimators\":n_estimators, \"criterion\":criterion}\n",
    "rfr_gridSearch = GridSearchCV(rfr, params, cv=5)\n",
    "\n",
    "rfr_gridSearch.fit(X_train,y_train)\n",
    "pred2 = rfr_gridSearch.predict(X_validation)\n",
    "rfr_rmse = np.sqrt(mean_squared_error(y_validation,pred2))\n",
    "print(\"RandomForestRegressor rmse (after tuning): \",np.round(rfr_rmse,2))"
   ]
  },
  {
   "cell_type": "code",
   "execution_count": 24,
   "id": "8de0aa53",
   "metadata": {
    "execution": {
     "iopub.execute_input": "2023-05-05T17:36:52.130131Z",
     "iopub.status.busy": "2023-05-05T17:36:52.129749Z",
     "iopub.status.idle": "2023-05-05T17:36:52.140808Z",
     "shell.execute_reply": "2023-05-05T17:36:52.139621Z"
    },
    "papermill": {
     "duration": 0.030275,
     "end_time": "2023-05-05T17:36:52.142718",
     "exception": false,
     "start_time": "2023-05-05T17:36:52.112443",
     "status": "completed"
    },
    "tags": []
   },
   "outputs": [
    {
     "name": "stdout",
     "output_type": "stream",
     "text": [
      "Best Hyperparameters (RandomForestRegressor) {'criterion': 'squared_error', 'n_estimators': 125}, \n",
      "with 437.94 rmse\n",
      "=====================================\n",
      "Best Hyperparameters (KNN) <bound method BaseEstimator.get_params of KNeighborsRegressor(algorithm='brute', weights='distance')>, \n",
      "with 614.72 rmse \n"
     ]
    }
   ],
   "source": [
    "print(\"Best Hyperparameters (RandomForestRegressor) {}, \\nwith {} rmse\".format(rfr_gridSearch.best_params_, np.round(rfr_rmse,2)))\n",
    "print(\"=====================================\")\n",
    "print(\"Best Hyperparameters (KNN) {}, \\nwith {} rmse \".format(knn.get_params, np.round(knn_rmse,2)))"
   ]
  },
  {
   "cell_type": "markdown",
   "id": "6c8a5b9f",
   "metadata": {
    "papermill": {
     "duration": 0.009537,
     "end_time": "2023-05-05T17:36:52.162235",
     "exception": false,
     "start_time": "2023-05-05T17:36:52.152698",
     "status": "completed"
    },
    "tags": []
   },
   "source": [
    "## **The Best Model :** \n",
    "#### **RandomForestRegressor (with tuning)**"
   ]
  },
  {
   "cell_type": "code",
   "execution_count": 25,
   "id": "002acf8a",
   "metadata": {
    "execution": {
     "iopub.execute_input": "2023-05-05T17:36:52.184292Z",
     "iopub.status.busy": "2023-05-05T17:36:52.183369Z",
     "iopub.status.idle": "2023-05-05T17:36:52.188341Z",
     "shell.execute_reply": "2023-05-05T17:36:52.187434Z"
    },
    "papermill": {
     "duration": 0.01829,
     "end_time": "2023-05-05T17:36:52.190513",
     "exception": false,
     "start_time": "2023-05-05T17:36:52.172223",
     "status": "completed"
    },
    "tags": []
   },
   "outputs": [],
   "source": [
    "final_model = rfr_gridSearch"
   ]
  },
  {
   "cell_type": "markdown",
   "id": "f980e986",
   "metadata": {
    "papermill": {
     "duration": 0.010529,
     "end_time": "2023-05-05T17:36:52.212301",
     "exception": false,
     "start_time": "2023-05-05T17:36:52.201772",
     "status": "completed"
    },
    "tags": []
   },
   "source": [
    "## **Testing The Model**"
   ]
  },
  {
   "cell_type": "code",
   "execution_count": 26,
   "id": "10e81a9c",
   "metadata": {
    "execution": {
     "iopub.execute_input": "2023-05-05T17:36:52.235590Z",
     "iopub.status.busy": "2023-05-05T17:36:52.233999Z",
     "iopub.status.idle": "2023-05-05T17:36:52.261308Z",
     "shell.execute_reply": "2023-05-05T17:36:52.260402Z"
    },
    "papermill": {
     "duration": 0.04103,
     "end_time": "2023-05-05T17:36:52.263577",
     "exception": false,
     "start_time": "2023-05-05T17:36:52.222547",
     "status": "completed"
    },
    "tags": []
   },
   "outputs": [],
   "source": [
    "test_df = pd.read_csv(\"/kaggle/input/diamond-price-prediction/test.csv\")"
   ]
  },
  {
   "cell_type": "markdown",
   "id": "7d960666",
   "metadata": {
    "papermill": {
     "duration": 0.010837,
     "end_time": "2023-05-05T17:36:52.285758",
     "exception": false,
     "start_time": "2023-05-05T17:36:52.274921",
     "status": "completed"
    },
    "tags": []
   },
   "source": [
    "#### **Preprocessing The Test Set**"
   ]
  },
  {
   "cell_type": "code",
   "execution_count": 27,
   "id": "fd364d55",
   "metadata": {
    "execution": {
     "iopub.execute_input": "2023-05-05T17:36:52.309647Z",
     "iopub.status.busy": "2023-05-05T17:36:52.308790Z",
     "iopub.status.idle": "2023-05-05T17:36:52.337750Z",
     "shell.execute_reply": "2023-05-05T17:36:52.336867Z"
    },
    "papermill": {
     "duration": 0.043206,
     "end_time": "2023-05-05T17:36:52.340058",
     "exception": false,
     "start_time": "2023-05-05T17:36:52.296852",
     "status": "completed"
    },
    "tags": []
   },
   "outputs": [],
   "source": [
    "test_df[\"cut\"] = encoder_cut.transform(test_df[[\"cut\"]])\n",
    "test_df[\"color\"] = encoder_color.transform(test_df[[\"color\"]])\n",
    "test_df[\"clarity\"] = encoder_clarity.transform(test_df[[\"clarity\"]])\n",
    "test_df[['cut','color','clarity']] = test_df[['cut','color','clarity']].replace(100, 0)\n",
    "\n",
    "#############################################################\n",
    "\n",
    "test_df[\"total_depth\"] = (test_df[\"z\"]*2)/(test_df[\"x\"]+test_df[\"y\"])\n",
    "test_df[\"size\"] = test_df[\"x\"] * test_df[\"y\"] * test_df[\"z\"]\n",
    "test_df = test_df.drop([\"x\",\"y\",\"z\"],axis=1)\n",
    "test_df = test_df.fillna(0)\n",
    "\n",
    "##############################################################\n",
    "\n",
    "test_df[[\"carat\",\"depth\",\"table\",\"total_depth\",\"size\"]] = scaler.transform(test_df[[\"carat\",\"depth\",\"table\",\"total_depth\",\"size\"]])"
   ]
  },
  {
   "cell_type": "markdown",
   "id": "bc666e65",
   "metadata": {
    "papermill": {
     "duration": 0.010662,
     "end_time": "2023-05-05T17:36:52.361688",
     "exception": false,
     "start_time": "2023-05-05T17:36:52.351026",
     "status": "completed"
    },
    "tags": []
   },
   "source": [
    "## **Output**"
   ]
  },
  {
   "cell_type": "code",
   "execution_count": 28,
   "id": "66626d08",
   "metadata": {
    "execution": {
     "iopub.execute_input": "2023-05-05T17:36:52.385606Z",
     "iopub.status.busy": "2023-05-05T17:36:52.384654Z",
     "iopub.status.idle": "2023-05-05T17:36:52.820335Z",
     "shell.execute_reply": "2023-05-05T17:36:52.819257Z"
    },
    "papermill": {
     "duration": 0.450128,
     "end_time": "2023-05-05T17:36:52.822727",
     "exception": false,
     "start_time": "2023-05-05T17:36:52.372599",
     "status": "completed"
    },
    "tags": []
   },
   "outputs": [],
   "source": [
    "idd = test_df[\"Id\"].values\n",
    "test_set = test_df.drop([\"Id\"], axis=1)\n",
    "\n",
    "preds = final_model.predict(test_set)\n",
    "\n",
    "preds_df = pd.DataFrame({\"id\":idd, \"price\":preds})\n",
    "preds_csv = preds_df.to_csv('predictions.csv', index = False)"
   ]
  }
 ],
 "metadata": {
  "kernelspec": {
   "display_name": "Python 3",
   "language": "python",
   "name": "python3"
  },
  "language_info": {
   "codemirror_mode": {
    "name": "ipython",
    "version": 3
   },
   "file_extension": ".py",
   "mimetype": "text/x-python",
   "name": "python",
   "nbconvert_exporter": "python",
   "pygments_lexer": "ipython3",
   "version": "3.10.10"
  },
  "papermill": {
   "default_parameters": {},
   "duration": 229.722753,
   "end_time": "2023-05-05T17:36:53.653933",
   "environment_variables": {},
   "exception": null,
   "input_path": "__notebook__.ipynb",
   "output_path": "__notebook__.ipynb",
   "parameters": {},
   "start_time": "2023-05-05T17:33:03.931180",
   "version": "2.4.0"
  }
 },
 "nbformat": 4,
 "nbformat_minor": 5
}
